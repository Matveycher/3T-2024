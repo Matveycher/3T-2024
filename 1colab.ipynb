{
  "nbformat": 4,
  "nbformat_minor": 0,
  "metadata": {
    "colab": {
      "provenance": [],
      "authorship_tag": "ABX9TyOO/5TREFn4snqesE8SIQZA",
      "include_colab_link": true
    },
    "kernelspec": {
      "name": "python3",
      "display_name": "Python 3"
    },
    "language_info": {
      "name": "python"
    }
  },
  "cells": [
    {
      "cell_type": "markdown",
      "metadata": {
        "id": "view-in-github",
        "colab_type": "text"
      },
      "source": [
        "<a href=\"https://colab.research.google.com/github/Matveycher/3T-2024/blob/master/1colab.ipynb\" target=\"_parent\"><img src=\"https://colab.research.google.com/assets/colab-badge.svg\" alt=\"Open In Colab\"/></a>"
      ]
    },
    {
      "cell_type": "code",
      "execution_count": null,
      "metadata": {
        "id": "nXkM07hzwXzv"
      },
      "outputs": [],
      "source": [
        "from colabcode import ColabCode\n",
        "ColabCode(port=10000)\n",
        "\n",
        "import pandas as pd\n",
        "from sklearn.preprocessing import MinMaxScaler, OneHotEncoder, MaxAbsScaler\n",
        "from tensorflow.keras.layers import Input, Dense, concatenate\n",
        "from tensorflow.keras.models import Model\n",
        "\n",
        "# Load the data\n",
        "df = pd.read_csv(\"train.csv\")\n",
        "\n",
        "# Extract features and target variable\n",
        "X = df.drop(\"time_remaining\", axis=1)\n",
        "y = df[\"time_remaining\"]\n",
        "\n",
        "# Define categorical and numerical columns\n",
        "categorical_cols = [\"firmware_version\", \"drone_model_number\", \"payload_type\", \"country\", \"drone_color\", \"flight_mode\", \"manufacturer_name\"]\n",
        "numerical_cols = [col for col in X.columns if col not in categorical_cols]\n",
        "\n",
        "# Preprocess date column\n",
        "X['manufacturing_date'] = pd.to_datetime(X['manufacturing_date'])\n",
        "reference_date = X['manufacturing_date'].min()\n",
        "X['manufacturing_date'] = (X['manufacturing_date'] - reference_date).dt.days\n",
        "\n",
        "# One-hot encode categorical features\n",
        "encoder = OneHotEncoder(handle_unknown='ignore')\n",
        "X_encoded = encoder.fit_transform(X[categorical_cols]).toarray()\n",
        "X_encoded = pd.DataFrame(X_encoded, columns=encoder.get_feature_names_out(categorical_cols))\n",
        "\n",
        "# Normalize numerical features\n",
        "scaler = MinMaxScaler()\n",
        "X_scaled = scaler.fit_transform(X[numerical_cols])\n",
        "X_scaled = pd.DataFrame(X_scaled, columns=numerical_cols)\n",
        "\n",
        "# Concatenate encoded categorical features and normalized numerical features\n",
        "X_processed = pd.concat([X_encoded, X_scaled], axis=1)\n",
        "\n",
        "# Define input layers for each feature\n",
        "inputs = []\n",
        "for i in range(X_processed.shape[1]):\n",
        "    input_layer = Input(shape=(1,), name=f\"input_{i}\")\n",
        "    inputs.append(input_layer)\n",
        "\n",
        "# Concatenate all input layers\n",
        "concatenated = concatenate(inputs)\n",
        "\n",
        "# Dense layers for processing concatenated inputs\n",
        "x = Dense(64, activation='relu')(concatenated)\n",
        "x = Dense(32, activation='relu')(concatenated)\n",
        "\n",
        "# Output layer\n",
        "output = Dense(1)(x)\n",
        "\n",
        "# Create the model\n",
        "model = RandomForestRegressor(n_estimators=100, random_state=42)\n",
        "\n",
        "# Compile the model\n",
        "# model.compile(optimizer='adam', loss='mse', metrics=['mae'])\n",
        "\n",
        "# Train the model\n",
        "# model.fit([X_processed.iloc[:, i] for i in range(X_processed.shape[1])], y, epochs=500, batch_size=10, validation_split=0.2)\n",
        "# model.fit(X_processed, y, epochs=500, batch_size=10, validation_split=0.2)\n",
        "\n",
        "model.fit(X_train, y_train)\n",
        "\n",
        "\n",
        "# Make predictions\n",
        "predictions = model.predict([X_processed.iloc[:, i] for i in range(X_processed.shape[1])])\n"
      ]
    }
  ]
}